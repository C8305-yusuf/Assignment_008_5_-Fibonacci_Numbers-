{
  "nbformat": 4,
  "nbformat_minor": 0,
  "metadata": {
    "colab": {
      "name": "Assignment-008/5 (Fibonacci Numbers) .ipynb",
      "private_outputs": true,
      "provenance": [],
      "authorship_tag": "ABX9TyNn0Ztgh1y770i6F+WTm3jY",
      "include_colab_link": true
    },
    "kernelspec": {
      "name": "python3",
      "display_name": "Python 3"
    },
    "language_info": {
      "name": "python"
    }
  },
  "cells": [
    {
      "cell_type": "markdown",
      "metadata": {
        "id": "view-in-github",
        "colab_type": "text"
      },
      "source": [
        "<a href=\"https://colab.research.google.com/github/C8305-yusuf/Assignment_008_5_-Fibonacci_Numbers-/blob/main/Assignment_008_5_(Fibonacci_Numbers)_.ipynb\" target=\"_parent\"><img src=\"https://colab.research.google.com/assets/colab-badge.svg\" alt=\"Open In Colab\"/></a>"
      ]
    },
    {
      "cell_type": "code",
      "metadata": {
        "id": "utg-im-wipgP"
      },
      "source": [
        "def fibanocci(n):\n",
        "    dizi = [1, 1]\n",
        "    for i in range(2, n+1):\n",
        "        dizi.append(dizi[i-2] + dizi[i-1])\n",
        "    return dizi\n",
        "print(fibanocci(13))"
      ],
      "execution_count": null,
      "outputs": []
    }
  ]
}